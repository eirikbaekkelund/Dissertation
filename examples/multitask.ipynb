{
 "cells": [
  {
   "cell_type": "code",
   "execution_count": 12,
   "metadata": {},
   "outputs": [],
   "source": [
    "import torch \n",
    "import gpytorch\n",
    "import numpy as np\n",
    "import sys \n",
    "import os\n",
    "sys.path.append(os.path.abspath('..'))\n",
    "from plotting import plot_train_test_split, plot_grid\n",
    "from data.utils import *\n",
    "from data.generator import PVDataGenerator\n",
    "from data.loader import PVDataLoader\n",
    "from models.multitask import MultitaskGPModel"
   ]
  },
  {
   "cell_type": "code",
   "execution_count": 13,
   "metadata": {},
   "outputs": [],
   "source": [
    "# set seed for reproducibility\n",
    "SEED = 42\n",
    "torch.manual_seed(SEED)\n",
    "np.random.seed(SEED)\n",
    "\n",
    "# data parameters\n",
    "DAY_INIT = 0\n",
    "DAY_MIN = 8\n",
    "DAY_MAX = 16\n",
    "N_DAYS = 100\n",
    "N_DAYS_TRAIN = 5\n",
    "MINUTE_INTERVAL = 5\n",
    "DAILY_DATA_POINTS = (DAY_MAX - DAY_MIN) * 60 / MINUTE_INTERVAL\n",
    "N_HOURS_PRED = 2\n",
    "N_SYSTEMS = 55\n",
    "RADIUS = 0.35\n",
    "CIRCLE_COORDS = (55, -1.5)\n",
    "# create a tuple of 4 coordinates that form a polygon in the uk\n",
    "\n",
    "POLY_COORDS = ((50, -6), (50.5, 1.9), (57.6, -5.5), (58, 1.9))"
   ]
  },
  {
   "cell_type": "code",
   "execution_count": 14,
   "metadata": {},
   "outputs": [
    {
     "name": "stdout",
     "output_type": "stream",
     "text": [
      "==> Loading data\n",
      "==> Loaded data in: 0 m : 8 sec\n",
      "\n",
      "==> Loading data\n",
      "==> Loaded data in: 0 m : 0 sec\n",
      "\n"
     ]
    }
   ],
   "source": [
    "generator = PVDataGenerator(n_days=N_DAYS,\n",
    "                    day_init=DAY_INIT,\n",
    "                    n_systems=N_SYSTEMS,\n",
    "                    coords=CIRCLE_COORDS,\n",
    "                    minute_interval=MINUTE_INTERVAL,\n",
    "                    day_min=DAY_MIN,\n",
    "                    day_max=DAY_MAX,\n",
    "                    folder_name='pv_data',\n",
    "                    file_name_pv='pv_data_clean.csv',\n",
    "                    file_name_location='location_data_clean.csv',\n",
    "                    distance_method='circle',\n",
    "                    drop_nan=False)\n",
    "\n",
    "X, y = generator.get_time_series()\n",
    "num_latent = 5\n",
    "num_tasks = y.shape[1]"
   ]
  },
  {
   "cell_type": "code",
   "execution_count": 18,
   "metadata": {},
   "outputs": [],
   "source": [
    "x_train, y_train, x_test, y_test = train_test_split(X, y, n_hours=N_HOURS_PRED)"
   ]
  },
  {
   "cell_type": "code",
   "execution_count": 19,
   "metadata": {},
   "outputs": [],
   "source": [
    "from kernels.quasi_periodic import generate_quasi_periodic\n",
    "from likelihoods.beta import MultitaskBetaLikelihood"
   ]
  },
  {
   "cell_type": "code",
   "execution_count": 25,
   "metadata": {},
   "outputs": [],
   "source": [
    "mean = gpytorch.means.ConstantMean(batch_shape=torch.Size([num_latent]))\n",
    "kernel = generate_quasi_periodic(num_latent=num_latent)\n",
    "beta_likelihood = MultitaskBetaLikelihood(num_tasks=num_tasks, scale=20)\n",
    "gaussian_likelihood = gpytorch.likelihoods.MultitaskGaussianLikelihood(num_tasks=num_tasks)"
   ]
  },
  {
   "cell_type": "code",
   "execution_count": 29,
   "metadata": {},
   "outputs": [],
   "source": [
    "beta_model = MultitaskGPModel(x_train, y_train, \n",
    "                            likelihood=beta_likelihood,\n",
    "                            mean_module=mean,\n",
    "                            covar_module=kernel,\n",
    "                            num_latents=num_latent)\n",
    "\n",
    "gaussian_model = MultitaskGPModel(x_train, y_train,\n",
    "                            likelihood=gaussian_likelihood,\n",
    "                            mean_module=mean,\n",
    "                            covar_module=kernel,\n",
    "                            num_latents=num_latent)"
   ]
  },
  {
   "cell_type": "code",
   "execution_count": null,
   "metadata": {},
   "outputs": [],
   "source": [
    "beta_model.fit(n_iter=500, lr=0.1, verbose=True)\n",
    "gaussian_model.fit(n_iter=500, lr=0.1, verbose=True)"
   ]
  }
 ],
 "metadata": {
  "kernelspec": {
   "display_name": "gp",
   "language": "python",
   "name": "python3"
  },
  "language_info": {
   "codemirror_mode": {
    "name": "ipython",
    "version": 3
   },
   "file_extension": ".py",
   "mimetype": "text/x-python",
   "name": "python",
   "nbconvert_exporter": "python",
   "pygments_lexer": "ipython3",
   "version": "3.11.3"
  },
  "orig_nbformat": 4
 },
 "nbformat": 4,
 "nbformat_minor": 2
}
