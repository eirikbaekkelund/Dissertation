{
 "cells": [
  {
   "cell_type": "code",
   "execution_count": 9,
   "metadata": {},
   "outputs": [],
   "source": [
    "import os\n",
    "import sys\n",
    "sys.path.append(os.path.abspath(os.path.join('../..')))\n",
    "from hypertuning import HyperOptLSTM, HyperOptXGBoost\n",
    "from data import SystemLoader, PVWeatherGenerator"
   ]
  },
  {
   "cell_type": "code",
   "execution_count": 10,
   "metadata": {},
   "outputs": [],
   "source": [
    "DAY_INIT = 40\n",
    "N_DAYS = 80\n",
    "N_DAYS_FOLD = 7\n",
    "N_HOURS_PRED = 6\n",
    "N_SYSTEMS = 5\n",
    "RADIUS = 0.35\n",
    "COORDS = (55, -1.5)\n",
    "DAILY_DATA_POINTS = (16 - 8) * 60 // 5\n",
    "TRAIN_INTERVAL = int(DAILY_DATA_POINTS * N_DAYS_FOLD)"
   ]
  },
  {
   "cell_type": "code",
   "execution_count": 11,
   "metadata": {},
   "outputs": [
    {
     "name": "stdout",
     "output_type": "stream",
     "text": [
      "==> Loading data\n",
      "==> Loaded data in: 0 m : 41 sec\n",
      "\n"
     ]
    }
   ],
   "source": [
    "generator = PVWeatherGenerator(\n",
    "    coords=COORDS,\n",
    "    radius=RADIUS,\n",
    "    day_init=DAY_INIT,\n",
    "    n_days=N_DAYS,\n",
    ")"
   ]
  },
  {
   "cell_type": "code",
   "execution_count": 12,
   "metadata": {},
   "outputs": [],
   "source": [
    "loader = SystemLoader(generator.df, train_interval=TRAIN_INTERVAL)"
   ]
  },
  {
   "cell_type": "code",
   "execution_count": null,
   "metadata": {},
   "outputs": [],
   "source": [
    "hyper_opt_lstm = HyperOptLSTM(loader, n_systems=N_SYSTEMS)\n",
    "study_lstm = hyper_opt_lstm.run_study(n_trials=50)"
   ]
  },
  {
   "cell_type": "code",
   "execution_count": null,
   "metadata": {},
   "outputs": [],
   "source": [
    "loader = SystemLoader(generator.df, train_interval=TRAIN_INTERVAL)\n",
    "hyper_opt_xgb = HyperOptXGBoost(loader, n_systems=N_SYSTEMS)\n",
    "study_xgb = hyper_opt_xgb.run_study(n_trials=50)"
   ]
  },
  {
   "cell_type": "code",
   "execution_count": null,
   "metadata": {},
   "outputs": [],
   "source": []
  }
 ],
 "metadata": {
  "kernelspec": {
   "display_name": "gp",
   "language": "python",
   "name": "python3"
  },
  "language_info": {
   "codemirror_mode": {
    "name": "ipython",
    "version": 3
   },
   "file_extension": ".py",
   "mimetype": "text/x-python",
   "name": "python",
   "nbconvert_exporter": "python",
   "pygments_lexer": "ipython3",
   "version": "3.11.3"
  },
  "orig_nbformat": 4
 },
 "nbformat": 4,
 "nbformat_minor": 2
}
