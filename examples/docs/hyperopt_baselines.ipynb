{
 "cells": [
  {
   "cell_type": "code",
   "execution_count": 1,
   "metadata": {},
   "outputs": [],
   "source": [
    "from hypertuning import HyperOptLSTM, HyperOptXGBoost\n",
    "from data import SystemLoader, PVWeatherGenerator"
   ]
  },
  {
   "cell_type": "code",
   "execution_count": 4,
   "metadata": {},
   "outputs": [],
   "source": [
    "DAY_INIT = 40\n",
    "N_DAYS = 80\n",
    "N_DAYS_FOLD = 7\n",
    "N_HOURS_PRED = 6\n",
    "N_SYSTEMS = 5\n",
    "RADIUS = 0.35\n",
    "COORDS = (55, -1.5)\n",
    "DAILY_DATA_POINTS = (16 - 8) * 60 // 5\n",
    "TRAIN_INTERVAL = int(DAILY_DATA_POINTS * N_DAYS_FOLD)"
   ]
  },
  {
   "cell_type": "code",
   "execution_count": 5,
   "metadata": {},
   "outputs": [
    {
     "name": "stdout",
     "output_type": "stream",
     "text": [
      "==> Loading data\n",
      "==> Loaded data in: 0 m : 17 sec\n",
      "\n"
     ]
    }
   ],
   "source": [
    "generator = PVWeatherGenerator(\n",
    "    coords=COORDS,\n",
    "    radius=RADIUS,\n",
    "    day_init=DAY_INIT,\n",
    ")"
   ]
  },
  {
   "cell_type": "code",
   "execution_count": 6,
   "metadata": {},
   "outputs": [],
   "source": [
    "loader = SystemLoader(generator.df, train_interval=TRAIN_INTERVAL)"
   ]
  },
  {
   "cell_type": "code",
   "execution_count": 7,
   "metadata": {},
   "outputs": [
    {
     "name": "stderr",
     "output_type": "stream",
     "text": [
      "[I 2023-08-19 12:02:31,626] A new study created in memory with name: no-name-bb32b243-322d-4979-8039-7a421243bf35\n"
     ]
    },
    {
     "name": "stderr",
     "output_type": "stream",
     "text": [
      "[I 2023-08-19 12:02:32,620] Trial 0 finished with value: 0.058570560551353235 and parameters: {'hidden_units': 6, 'n_layers': 3, 'dropout': 0.36776598551876266, 'batch_size': 15, 'n_iter': 1, 'lr': 0.06599487572627198}. Best is trial 0 with value: 0.058570560551353235.\n"
     ]
    },
    {
     "name": "stdout",
     "output_type": "stream",
     "text": [
      "Run 1 of 260 complete. MAE: 0.0373\n",
      "Run 2 of 260 complete. MAE: 0.0444\n",
      "Run 3 of 260 complete. MAE: 0.0994\n",
      "Run 4 of 260 complete. MAE: 0.0532\n",
      "Skipping system with less than 100 training samples.\n",
      "x_tr.shape[0] = 0\n",
      "Run 1 of 260 complete. MAE: 0.0226\n",
      "Run 2 of 260 complete. MAE: 0.0169\n",
      "Run 3 of 260 complete. MAE: 0.0117\n"
     ]
    },
    {
     "name": "stderr",
     "output_type": "stream",
     "text": [
      "[I 2023-08-19 12:09:03,183] Trial 1 finished with value: 0.020888450062537617 and parameters: {'hidden_units': 11, 'n_layers': 3, 'dropout': 0.14329645499966548, 'batch_size': 15, 'n_iter': 301, 'lr': 2.1765826623602504e-05}. Best is trial 1 with value: 0.020888450062537617.\n"
     ]
    },
    {
     "name": "stdout",
     "output_type": "stream",
     "text": [
      "Run 4 of 260 complete. MAE: 0.0324\n",
      "Skipping system with less than 100 training samples.\n",
      "x_tr.shape[0] = 0\n",
      "Run 1 of 260 complete. MAE: 0.1365\n",
      "Run 2 of 260 complete. MAE: 0.7195\n"
     ]
    },
    {
     "name": "stderr",
     "output_type": "stream",
     "text": [
      "[I 2023-08-19 12:09:03,426] Trial 2 finished with value: 0.3650109706530901 and parameters: {'hidden_units': 1, 'n_layers': 3, 'dropout': 0.2960962084143912, 'batch_size': 35, 'n_iter': 1, 'lr': 3.365306695479998e-05}. Best is trial 1 with value: 0.020888450062537617.\n"
     ]
    },
    {
     "name": "stdout",
     "output_type": "stream",
     "text": [
      "Run 3 of 260 complete. MAE: 0.4141\n",
      "Run 4 of 260 complete. MAE: 0.1899\n",
      "Skipping system with less than 100 training samples.\n",
      "x_tr.shape[0] = 0\n",
      "Run 1 of 260 complete. MAE: 0.0248\n",
      "Run 2 of 260 complete. MAE: 0.0898\n",
      "Run 3 of 260 complete. MAE: 0.0489\n"
     ]
    },
    {
     "name": "stderr",
     "output_type": "stream",
     "text": [
      "[I 2023-08-19 12:09:04,523] Trial 3 finished with value: 0.05090712920119745 and parameters: {'hidden_units': 16, 'n_layers': 2, 'dropout': 0.16680731047311015, 'batch_size': 10, 'n_iter': 1, 'lr': 0.0033665945725915134}. Best is trial 1 with value: 0.020888450062537617.\n"
     ]
    },
    {
     "name": "stdout",
     "output_type": "stream",
     "text": [
      "Run 4 of 260 complete. MAE: 0.0401\n",
      "Skipping system with less than 100 training samples.\n",
      "x_tr.shape[0] = 0\n",
      "Run 1 of 260 complete. MAE: 0.0340\n",
      "Run 2 of 260 complete. MAE: 0.0526\n",
      "Run 3 of 260 complete. MAE: 0.0852\n"
     ]
    },
    {
     "name": "stderr",
     "output_type": "stream",
     "text": [
      "[I 2023-08-19 12:09:21,518] Trial 4 finished with value: 0.05174586400900043 and parameters: {'hidden_units': 11, 'n_layers': 1, 'dropout': 0.105131815645294, 'batch_size': 30, 'n_iter': 101, 'lr': 0.001090332355912026}. Best is trial 1 with value: 0.020888450062537617.\n"
     ]
    },
    {
     "name": "stdout",
     "output_type": "stream",
     "text": [
      "Run 4 of 260 complete. MAE: 0.0351\n",
      "Skipping system with less than 100 training samples.\n",
      "x_tr.shape[0] = 0\n",
      "Run 1 of 260 complete. MAE: 0.0707\n",
      "Run 2 of 260 complete. MAE: 0.0764\n",
      "Run 3 of 260 complete. MAE: 0.0885\n"
     ]
    },
    {
     "name": "stderr",
     "output_type": "stream",
     "text": [
      "[I 2023-08-19 12:09:41,371] Trial 5 finished with value: 0.07406935565681808 and parameters: {'hidden_units': 6, 'n_layers': 1, 'dropout': 0.25828034324685073, 'batch_size': 30, 'n_iter': 151, 'lr': 0.0023843435198605285}. Best is trial 1 with value: 0.020888450062537617.\n"
     ]
    },
    {
     "name": "stdout",
     "output_type": "stream",
     "text": [
      "Run 4 of 260 complete. MAE: 0.0606\n",
      "Skipping system with less than 100 training samples.\n",
      "x_tr.shape[0] = 0\n",
      "Run 1 of 260 complete. MAE: 0.1086\n",
      "Run 2 of 260 complete. MAE: 0.1794\n",
      "Run 3 of 260 complete. MAE: 0.2478\n"
     ]
    },
    {
     "name": "stderr",
     "output_type": "stream",
     "text": [
      "[I 2023-08-19 12:09:51,257] Trial 6 finished with value: 0.20427509690885703 and parameters: {'hidden_units': 16, 'n_layers': 1, 'dropout': 0.19035770637739324, 'batch_size': 40, 'n_iter': 101, 'lr': 0.0002091505111132023}. Best is trial 1 with value: 0.020888450062537617.\n"
     ]
    },
    {
     "name": "stdout",
     "output_type": "stream",
     "text": [
      "Run 4 of 260 complete. MAE: 0.2813\n",
      "Skipping system with less than 100 training samples.\n",
      "x_tr.shape[0] = 0\n",
      "Run 1 of 260 complete. MAE: 0.0706\n",
      "Run 2 of 260 complete. MAE: 0.0731\n",
      "Run 3 of 260 complete. MAE: 0.0857\n"
     ]
    },
    {
     "name": "stderr",
     "output_type": "stream",
     "text": [
      "[I 2023-08-19 12:10:14,921] Trial 7 finished with value: 0.0853901458800338 and parameters: {'hidden_units': 16, 'n_layers': 1, 'dropout': 0.43313586338591537, 'batch_size': 15, 'n_iter': 51, 'lr': 0.010101583949124278}. Best is trial 1 with value: 0.020888450062537617.\n"
     ]
    },
    {
     "name": "stdout",
     "output_type": "stream",
     "text": [
      "Run 4 of 260 complete. MAE: 0.1122\n",
      "Skipping system with less than 100 training samples.\n",
      "x_tr.shape[0] = 0\n",
      "Run 1 of 260 complete. MAE: 0.0161\n",
      "Run 2 of 260 complete. MAE: 0.0161\n",
      "Run 3 of 260 complete. MAE: 0.0168\n"
     ]
    },
    {
     "name": "stderr",
     "output_type": "stream",
     "text": [
      "[I 2023-08-19 12:11:11,367] Trial 8 finished with value: 0.012243412680069862 and parameters: {'hidden_units': 1, 'n_layers': 3, 'dropout': 0.3224299901998739, 'batch_size': 30, 'n_iter': 101, 'lr': 0.0006688587312829892}. Best is trial 8 with value: 0.012243412680069862.\n"
     ]
    },
    {
     "name": "stdout",
     "output_type": "stream",
     "text": [
      "Run 4 of 260 complete. MAE: 0.0000\n",
      "Skipping system with less than 100 training samples.\n",
      "x_tr.shape[0] = 0\n",
      "Run 1 of 260 complete. MAE: 0.1453\n",
      "Run 2 of 260 complete. MAE: 0.0882\n",
      "Run 3 of 260 complete. MAE: 0.0578\n"
     ]
    },
    {
     "name": "stderr",
     "output_type": "stream",
     "text": [
      "[I 2023-08-19 12:11:49,432] Trial 9 finished with value: 0.09228663263408945 and parameters: {'hidden_units': 16, 'n_layers': 3, 'dropout': 0.14188550527435406, 'batch_size': 40, 'n_iter': 151, 'lr': 1.6236125269853127e-05}. Best is trial 8 with value: 0.012243412680069862.\n"
     ]
    },
    {
     "name": "stdout",
     "output_type": "stream",
     "text": [
      "Run 4 of 260 complete. MAE: 0.0778\n",
      "Skipping system with less than 100 training samples.\n",
      "x_tr.shape[0] = 0\n",
      "Run 1 of 260 complete. MAE: 0.1854\n",
      "Run 2 of 260 complete. MAE: 0.1229\n",
      "Run 3 of 260 complete. MAE: 0.1203\n"
     ]
    },
    {
     "name": "stderr",
     "output_type": "stream",
     "text": [
      "[I 2023-08-19 12:12:24,381] Trial 10 finished with value: 0.1371865241455716 and parameters: {'hidden_units': 1, 'n_layers': 2, 'dropout': 0.012093996920321981, 'batch_size': 25, 'n_iter': 451, 'lr': 0.00022187661346396366}. Best is trial 8 with value: 0.012243412680069862.\n"
     ]
    },
    {
     "name": "stdout",
     "output_type": "stream",
     "text": [
      "Run 4 of 260 complete. MAE: 0.1201\n",
      "Skipping system with less than 100 training samples.\n",
      "x_tr.shape[0] = 0\n",
      "Run 1 of 260 complete. MAE: 0.0991\n",
      "Run 2 of 260 complete. MAE: 0.3088\n",
      "Run 3 of 260 complete. MAE: 0.3461\n"
     ]
    },
    {
     "name": "stderr",
     "output_type": "stream",
     "text": [
      "[I 2023-08-19 12:13:34,201] Trial 11 finished with value: 0.2430060998134632 and parameters: {'hidden_units': 11, 'n_layers': 3, 'dropout': 0.3259106501760835, 'batch_size': 20, 'n_iter': 301, 'lr': 1.062442419531089e-05}. Best is trial 8 with value: 0.012243412680069862.\n"
     ]
    },
    {
     "name": "stdout",
     "output_type": "stream",
     "text": [
      "Run 4 of 260 complete. MAE: 0.2180\n",
      "Skipping system with less than 100 training samples.\n",
      "x_tr.shape[0] = 0\n",
      "Run 1 of 260 complete. MAE: 0.1326\n",
      "Run 2 of 260 complete. MAE: 0.0881\n",
      "Run 3 of 260 complete. MAE: 0.0525\n"
     ]
    },
    {
     "name": "stderr",
     "output_type": "stream",
     "text": [
      "[I 2023-08-19 12:14:36,995] Trial 12 finished with value: 0.0954753567263028 and parameters: {'hidden_units': 6, 'n_layers': 2, 'dropout': 0.48641295247698013, 'batch_size': 25, 'n_iter': 251, 'lr': 0.00013409005537532692}. Best is trial 8 with value: 0.012243412680069862.\n"
     ]
    },
    {
     "name": "stdout",
     "output_type": "stream",
     "text": [
      "Run 4 of 260 complete. MAE: 0.1087\n",
      "Skipping system with less than 100 training samples.\n",
      "x_tr.shape[0] = 0\n",
      "Run 1 of 260 complete. MAE: 0.1479\n",
      "Run 2 of 260 complete. MAE: 0.1713\n",
      "Run 3 of 260 complete. MAE: 0.1222\n"
     ]
    },
    {
     "name": "stderr",
     "output_type": "stream",
     "text": [
      "[I 2023-08-19 12:17:09,120] Trial 13 finished with value: 0.14239821879005707 and parameters: {'hidden_units': 11, 'n_layers': 3, 'dropout': 0.22996392023410042, 'batch_size': 10, 'n_iter': 351, 'lr': 5.726542622454588e-05}. Best is trial 8 with value: 0.012243412680069862.\n"
     ]
    },
    {
     "name": "stdout",
     "output_type": "stream",
     "text": [
      "Run 4 of 260 complete. MAE: 0.1283\n",
      "Skipping system with less than 100 training samples.\n",
      "x_tr.shape[0] = 0\n",
      "Run 1 of 260 complete. MAE: 0.2256\n",
      "Run 2 of 260 complete. MAE: 0.1316\n",
      "Run 3 of 260 complete. MAE: 0.3732\n"
     ]
    },
    {
     "name": "stderr",
     "output_type": "stream",
     "text": [
      "[I 2023-08-19 12:17:47,448] Trial 14 finished with value: 0.20513573076418842 and parameters: {'hidden_units': 1, 'n_layers': 3, 'dropout': 0.3513861680944144, 'batch_size': 30, 'n_iter': 401, 'lr': 8.298402933793957e-05}. Best is trial 8 with value: 0.012243412680069862.\n"
     ]
    },
    {
     "name": "stdout",
     "output_type": "stream",
     "text": [
      "Run 4 of 260 complete. MAE: 0.0902\n",
      "Skipping system with less than 100 training samples.\n",
      "x_tr.shape[0] = 0\n",
      "Run 1 of 260 complete. MAE: 0.1282\n",
      "Run 2 of 260 complete. MAE: 0.0784\n",
      "Run 3 of 260 complete. MAE: 0.0409\n"
     ]
    },
    {
     "name": "stderr",
     "output_type": "stream",
     "text": [
      "[I 2023-08-19 12:18:50,017] Trial 15 finished with value: 0.09748069679499391 and parameters: {'hidden_units': 6, 'n_layers': 2, 'dropout': 0.254286770069952, 'batch_size': 20, 'n_iter': 201, 'lr': 0.0005522366297345646}. Best is trial 8 with value: 0.012243412680069862.\n"
     ]
    },
    {
     "name": "stdout",
     "output_type": "stream",
     "text": [
      "Run 4 of 260 complete. MAE: 0.1424\n",
      "Skipping system with less than 100 training samples.\n",
      "x_tr.shape[0] = 0\n",
      "Run 1 of 260 complete. MAE: 0.0697\n",
      "Run 2 of 260 complete. MAE: 0.0556\n",
      "Run 3 of 260 complete. MAE: 0.1259\n"
     ]
    },
    {
     "name": "stderr",
     "output_type": "stream",
     "text": [
      "[I 2023-08-19 12:24:18,878] Trial 16 finished with value: 0.07640166171047781 and parameters: {'hidden_units': 11, 'n_layers': 3, 'dropout': 0.08452905740334243, 'batch_size': 20, 'n_iter': 251, 'lr': 2.8881305107435936e-05}. Best is trial 8 with value: 0.012243412680069862.\n"
     ]
    },
    {
     "name": "stdout",
     "output_type": "stream",
     "text": [
      "Run 4 of 260 complete. MAE: 0.0544\n",
      "Skipping system with less than 100 training samples.\n",
      "x_tr.shape[0] = 0\n",
      "Run 1 of 260 complete. MAE: 0.3763\n",
      "Run 2 of 260 complete. MAE: 0.3012\n",
      "Run 3 of 260 complete. MAE: 0.3031\n"
     ]
    },
    {
     "name": "stderr",
     "output_type": "stream",
     "text": [
      "[I 2023-08-19 12:26:16,066] Trial 17 finished with value: 0.29971318101341393 and parameters: {'hidden_units': 1, 'n_layers': 2, 'dropout': 0.20988867712681314, 'batch_size': 35, 'n_iter': 301, 'lr': 0.0004040702168394495}. Best is trial 8 with value: 0.012243412680069862.\n"
     ]
    },
    {
     "name": "stdout",
     "output_type": "stream",
     "text": [
      "Run 4 of 260 complete. MAE: 0.2182\n",
      "Skipping system with less than 100 training samples.\n",
      "x_tr.shape[0] = 0\n",
      "Run 1 of 260 complete. MAE: 0.2630\n",
      "Run 2 of 260 complete. MAE: 0.2265\n",
      "Run 3 of 260 complete. MAE: 0.4160\n"
     ]
    },
    {
     "name": "stderr",
     "output_type": "stream",
     "text": [
      "[I 2023-08-19 12:27:50,543] Trial 18 finished with value: 0.2729995924616073 and parameters: {'hidden_units': 6, 'n_layers': 3, 'dropout': 0.2843706753634739, 'batch_size': 15, 'n_iter': 201, 'lr': 7.641986662573061e-05}. Best is trial 8 with value: 0.012243412680069862.\n"
     ]
    },
    {
     "name": "stdout",
     "output_type": "stream",
     "text": [
      "Run 4 of 260 complete. MAE: 0.1865\n",
      "Skipping system with less than 100 training samples.\n",
      "x_tr.shape[0] = 0\n",
      "Run 1 of 260 complete. MAE: 0.1451\n",
      "Run 2 of 260 complete. MAE: 0.1854\n",
      "Run 3 of 260 complete. MAE: 0.6014\n"
     ]
    },
    {
     "name": "stderr",
     "output_type": "stream",
     "text": [
      "[I 2023-08-19 12:29:39,474] Trial 19 finished with value: 0.35425318096652325 and parameters: {'hidden_units': 11, 'n_layers': 2, 'dropout': 0.37909160930190466, 'batch_size': 35, 'n_iter': 351, 'lr': 1.3159951951248756e-05}. Best is trial 8 with value: 0.012243412680069862.\n"
     ]
    },
    {
     "name": "stdout",
     "output_type": "stream",
     "text": [
      "Run 4 of 260 complete. MAE: 0.4851\n",
      "Skipping system with less than 100 training samples.\n",
      "x_tr.shape[0] = 0\n",
      "Run 1 of 260 complete. MAE: 0.1834\n",
      "Run 2 of 260 complete. MAE: 0.1359\n",
      "Run 3 of 260 complete. MAE: 0.1693\n"
     ]
    },
    {
     "name": "stderr",
     "output_type": "stream",
     "text": [
      "[I 2023-08-19 12:29:49,763] Trial 20 finished with value: 0.23946200030739906 and parameters: {'hidden_units': 1, 'n_layers': 3, 'dropout': 0.21525664554020293, 'batch_size': 25, 'n_iter': 101, 'lr': 4.0365858218193726e-05}. Best is trial 8 with value: 0.012243412680069862.\n"
     ]
    },
    {
     "name": "stdout",
     "output_type": "stream",
     "text": [
      "Run 4 of 260 complete. MAE: 0.4693\n",
      "Skipping system with less than 100 training samples.\n",
      "x_tr.shape[0] = 0\n",
      "Run 1 of 260 complete. MAE: 0.1358\n",
      "Run 2 of 260 complete. MAE: 0.1407\n",
      "Run 3 of 260 complete. MAE: 0.1446\n"
     ]
    },
    {
     "name": "stderr",
     "output_type": "stream",
     "text": [
      "[I 2023-08-19 12:30:09,404] Trial 21 finished with value: 0.1631741007835727 and parameters: {'hidden_units': 16, 'n_layers': 2, 'dropout': 0.16260967344963256, 'batch_size': 10, 'n_iter': 51, 'lr': 0.0020158636164478065}. Best is trial 8 with value: 0.012243412680069862.\n"
     ]
    },
    {
     "name": "stdout",
     "output_type": "stream",
     "text": [
      "Run 4 of 260 complete. MAE: 0.2316\n",
      "Skipping system with less than 100 training samples.\n",
      "x_tr.shape[0] = 0\n",
      "Run 1 of 260 complete. MAE: 0.2877\n",
      "Run 2 of 260 complete. MAE: 0.2819\n",
      "Run 3 of 260 complete. MAE: 0.2526\n"
     ]
    },
    {
     "name": "stderr",
     "output_type": "stream",
     "text": [
      "[I 2023-08-19 12:30:09,884] Trial 22 finished with value: 0.278201278115882 and parameters: {'hidden_units': 16, 'n_layers': 2, 'dropout': 0.17471239824082943, 'batch_size': 10, 'n_iter': 1, 'lr': 0.0047611393530936725}. Best is trial 8 with value: 0.012243412680069862.\n"
     ]
    },
    {
     "name": "stdout",
     "output_type": "stream",
     "text": [
      "Run 4 of 260 complete. MAE: 0.2906\n",
      "Skipping system with less than 100 training samples.\n",
      "x_tr.shape[0] = 0\n",
      "Run 1 of 260 complete. MAE: 0.0826\n",
      "Run 2 of 260 complete. MAE: 0.0814\n",
      "Run 3 of 260 complete. MAE: 0.0918\n"
     ]
    },
    {
     "name": "stderr",
     "output_type": "stream",
     "text": [
      "[I 2023-08-19 12:30:54,693] Trial 23 finished with value: 0.08090517809051741 and parameters: {'hidden_units': 11, 'n_layers': 2, 'dropout': 0.11193638195718758, 'batch_size': 15, 'n_iter': 51, 'lr': 0.0008350855310666611}. Best is trial 8 with value: 0.012243412680069862.\n"
     ]
    },
    {
     "name": "stdout",
     "output_type": "stream",
     "text": [
      "Run 4 of 260 complete. MAE: 0.0677\n",
      "Skipping system with less than 100 training samples.\n",
      "x_tr.shape[0] = 0\n",
      "Run 1 of 260 complete. MAE: 0.1023\n",
      "Run 2 of 260 complete. MAE: 0.0857\n",
      "Run 3 of 260 complete. MAE: 0.0776\n"
     ]
    },
    {
     "name": "stderr",
     "output_type": "stream",
     "text": [
      "[I 2023-08-19 12:32:46,402] Trial 24 finished with value: 0.12634760866555977 and parameters: {'hidden_units': 16, 'n_layers': 3, 'dropout': 0.2394873039410672, 'batch_size': 10, 'n_iter': 151, 'lr': 0.00039028998108457105}. Best is trial 8 with value: 0.012243412680069862.\n"
     ]
    },
    {
     "name": "stdout",
     "output_type": "stream",
     "text": [
      "Run 4 of 260 complete. MAE: 0.2399\n",
      "Skipping system with less than 100 training samples.\n",
      "x_tr.shape[0] = 0\n",
      "Run 1 of 260 complete. MAE: 0.2326\n",
      "Run 2 of 260 complete. MAE: 0.1981\n",
      "Run 3 of 260 complete. MAE: 0.0937\n"
     ]
    },
    {
     "name": "stderr",
     "output_type": "stream",
     "text": [
      "[I 2023-08-19 12:34:45,328] Trial 25 finished with value: 0.15948757716240602 and parameters: {'hidden_units': 11, 'n_layers': 2, 'dropout': 0.15220613768240793, 'batch_size': 20, 'n_iter': 301, 'lr': 0.00014062935397927834}. Best is trial 8 with value: 0.012243412680069862.\n"
     ]
    },
    {
     "name": "stdout",
     "output_type": "stream",
     "text": [
      "Run 4 of 260 complete. MAE: 0.1135\n",
      "Skipping system with less than 100 training samples.\n",
      "x_tr.shape[0] = 0\n",
      "Run 1 of 260 complete. MAE: 0.2354\n",
      "Run 2 of 260 complete. MAE: 0.1698\n",
      "Run 3 of 260 complete. MAE: 0.0893\n"
     ]
    },
    {
     "name": "stderr",
     "output_type": "stream",
     "text": [
      "[I 2023-08-19 12:34:55,708] Trial 26 finished with value: 0.17551157725808883 and parameters: {'hidden_units': 6, 'n_layers': 3, 'dropout': 0.296268309730511, 'batch_size': 15, 'n_iter': 51, 'lr': 0.007674829277256848}. Best is trial 8 with value: 0.012243412680069862.\n"
     ]
    },
    {
     "name": "stdout",
     "output_type": "stream",
     "text": [
      "Run 4 of 260 complete. MAE: 0.2075\n",
      "Skipping system with less than 100 training samples.\n",
      "x_tr.shape[0] = 0\n",
      "Run 1 of 260 complete. MAE: 0.1254\n",
      "Run 2 of 260 complete. MAE: 0.1130\n",
      "Run 3 of 260 complete. MAE: 0.3335\n"
     ]
    },
    {
     "name": "stderr",
     "output_type": "stream",
     "text": [
      "[I 2023-08-19 12:34:56,274] Trial 27 finished with value: 0.1811277502102726 and parameters: {'hidden_units': 16, 'n_layers': 2, 'dropout': 0.19587891366652077, 'batch_size': 10, 'n_iter': 1, 'lr': 0.0011248490610805577}. Best is trial 8 with value: 0.012243412680069862.\n"
     ]
    },
    {
     "name": "stdout",
     "output_type": "stream",
     "text": [
      "Run 4 of 260 complete. MAE: 0.1525\n",
      "Skipping system with less than 100 training samples.\n",
      "x_tr.shape[0] = 0\n",
      "Run 1 of 260 complete. MAE: 0.1477\n",
      "Run 2 of 260 complete. MAE: 0.1663\n",
      "Run 3 of 260 complete. MAE: 0.1543\n"
     ]
    },
    {
     "name": "stderr",
     "output_type": "stream",
     "text": [
      "[I 2023-08-19 12:35:22,005] Trial 28 finished with value: 0.1649634071032758 and parameters: {'hidden_units': 11, 'n_layers': 3, 'dropout': 0.13375196114591664, 'batch_size': 30, 'n_iter': 101, 'lr': 0.0003029521288621381}. Best is trial 8 with value: 0.012243412680069862.\n"
     ]
    },
    {
     "name": "stdout",
     "output_type": "stream",
     "text": [
      "Run 4 of 260 complete. MAE: 0.1915\n",
      "Skipping system with less than 100 training samples.\n",
      "x_tr.shape[0] = 0\n",
      "Run 1 of 260 complete. MAE: 0.1440\n",
      "Run 2 of 260 complete. MAE: 0.2271\n",
      "Run 3 of 260 complete. MAE: 0.2537\n"
     ]
    },
    {
     "name": "stderr",
     "output_type": "stream",
     "text": [
      "[I 2023-08-19 12:36:58,526] Trial 29 finished with value: 0.20126471733627144 and parameters: {'hidden_units': 6, 'n_layers': 3, 'dropout': 0.06415907259734094, 'batch_size': 20, 'n_iter': 201, 'lr': 0.026846036888281535}. Best is trial 8 with value: 0.012243412680069862.\n"
     ]
    },
    {
     "name": "stdout",
     "output_type": "stream",
     "text": [
      "Run 4 of 260 complete. MAE: 0.1802\n",
      "Skipping system with less than 100 training samples.\n",
      "x_tr.shape[0] = 0\n"
     ]
    }
   ],
   "source": [
    "hyper_opt_lstm = HyperOptLSTM(loader, n_systems=N_SYSTEMS)\n",
    "study_lstm = hyper_opt_lstm.run_study(n_trials=30)"
   ]
  },
  {
   "cell_type": "code",
   "execution_count": 8,
   "metadata": {},
   "outputs": [
    {
     "name": "stderr",
     "output_type": "stream",
     "text": [
      "[I 2023-08-19 12:36:59,842] A new study created in memory with name: no-name-dfa4f316-64aa-45a2-9051-5e925dfdc8f1\n",
      "[I 2023-08-19 12:37:01,070] Trial 0 finished with value: 0.08043780136531634 and parameters: {'max_depth': 3, 'max_leaves': 3, 'n_estimators': 451}. Best is trial 0 with value: 0.08043780136531634.\n",
      "[I 2023-08-19 12:37:01,973] Trial 1 finished with value: 0.018298317069282085 and parameters: {'max_depth': 8, 'max_leaves': 7, 'n_estimators': 451}. Best is trial 1 with value: 0.018298317069282085.\n",
      "[I 2023-08-19 12:37:03,146] Trial 2 finished with value: 0.1351048267896891 and parameters: {'max_depth': 4, 'max_leaves': 8, 'n_estimators': 351}. Best is trial 1 with value: 0.018298317069282085.\n",
      "[I 2023-08-19 12:37:03,967] Trial 3 finished with value: 0.09402795490618596 and parameters: {'max_depth': 6, 'max_leaves': 3, 'n_estimators': 201}. Best is trial 1 with value: 0.018298317069282085.\n",
      "[I 2023-08-19 12:37:05,150] Trial 4 finished with value: 0.03606461970029586 and parameters: {'max_depth': 4, 'max_leaves': 8, 'n_estimators': 401}. Best is trial 1 with value: 0.018298317069282085.\n",
      "[I 2023-08-19 12:37:05,531] Trial 5 finished with value: 0.13813056187009898 and parameters: {'max_depth': 7, 'max_leaves': 7, 'n_estimators': 51}. Best is trial 1 with value: 0.018298317069282085.\n",
      "[I 2023-08-19 12:37:06,494] Trial 6 finished with value: 0.19718593366871834 and parameters: {'max_depth': 3, 'max_leaves': 5, 'n_estimators': 301}. Best is trial 1 with value: 0.018298317069282085.\n",
      "[I 2023-08-19 12:37:07,835] Trial 7 finished with value: 0.1027613291927201 and parameters: {'max_depth': 4, 'max_leaves': 6, 'n_estimators': 301}. Best is trial 1 with value: 0.018298317069282085.\n",
      "[I 2023-08-19 12:37:07,875] Trial 8 finished with value: 0.34427645082113484 and parameters: {'max_depth': 7, 'max_leaves': 2, 'n_estimators': 1}. Best is trial 1 with value: 0.018298317069282085.\n",
      "[I 2023-08-19 12:37:09,395] Trial 9 finished with value: 0.07459134892708842 and parameters: {'max_depth': 5, 'max_leaves': 9, 'n_estimators': 451}. Best is trial 1 with value: 0.018298317069282085.\n",
      "[I 2023-08-19 12:37:10,003] Trial 10 finished with value: 0.06365365732615544 and parameters: {'max_depth': 10, 'max_leaves': 10, 'n_estimators': 151}. Best is trial 1 with value: 0.018298317069282085.\n",
      "[I 2023-08-19 12:37:10,646] Trial 11 finished with value: 0.17019855883263973 and parameters: {'max_depth': 1, 'max_leaves': 5, 'n_estimators': 401}. Best is trial 1 with value: 0.018298317069282085.\n",
      "[I 2023-08-19 12:37:11,901] Trial 12 finished with value: 0.16403816116488495 and parameters: {'max_depth': 9, 'max_leaves': 8, 'n_estimators': 351}. Best is trial 1 with value: 0.018298317069282085.\n",
      "[I 2023-08-19 12:37:13,331] Trial 13 finished with value: 0.14341003661072543 and parameters: {'max_depth': 8, 'max_leaves': 7, 'n_estimators': 451}. Best is trial 1 with value: 0.018298317069282085.\n",
      "[I 2023-08-19 12:37:13,802] Trial 14 finished with value: 0.07416852443871536 and parameters: {'max_depth': 1, 'max_leaves': 10, 'n_estimators': 251}. Best is trial 1 with value: 0.018298317069282085.\n",
      "[I 2023-08-19 12:37:14,989] Trial 15 finished with value: 0.11344645366169212 and parameters: {'max_depth': 6, 'max_leaves': 6, 'n_estimators': 351}. Best is trial 1 with value: 0.018298317069282085.\n",
      "[I 2023-08-19 12:37:16,172] Trial 16 finished with value: 0.10172766712791924 and parameters: {'max_depth': 10, 'max_leaves': 8, 'n_estimators': 401}. Best is trial 1 with value: 0.018298317069282085.\n",
      "[I 2023-08-19 12:37:17,313] Trial 17 finished with value: 0.15296600464849955 and parameters: {'max_depth': 8, 'max_leaves': 9, 'n_estimators': 151}. Best is trial 1 with value: 0.018298317069282085.\n",
      "[I 2023-08-19 12:37:18,923] Trial 18 finished with value: 0.14070681908626748 and parameters: {'max_depth': 5, 'max_leaves': 4, 'n_estimators': 401}. Best is trial 1 with value: 0.018298317069282085.\n",
      "[I 2023-08-19 12:37:19,569] Trial 19 finished with value: 0.1825561153696046 and parameters: {'max_depth': 2, 'max_leaves': 1, 'n_estimators': 251}. Best is trial 1 with value: 0.018298317069282085.\n",
      "[I 2023-08-19 12:37:20,485] Trial 20 finished with value: 0.15401351934668317 and parameters: {'max_depth': 8, 'max_leaves': 7, 'n_estimators': 301}. Best is trial 1 with value: 0.018298317069282085.\n",
      "[I 2023-08-19 12:37:21,220] Trial 21 finished with value: 0.1258346460389526 and parameters: {'max_depth': 10, 'max_leaves': 10, 'n_estimators': 101}. Best is trial 1 with value: 0.018298317069282085.\n",
      "[I 2023-08-19 12:37:21,987] Trial 22 finished with value: 0.1119369551790869 and parameters: {'max_depth': 9, 'max_leaves': 9, 'n_estimators': 151}. Best is trial 1 with value: 0.018298317069282085.\n",
      "[I 2023-08-19 12:37:22,902] Trial 23 finished with value: 0.21550040101092413 and parameters: {'max_depth': 9, 'max_leaves': 10, 'n_estimators': 151}. Best is trial 1 with value: 0.018298317069282085.\n",
      "[I 2023-08-19 12:37:24,001] Trial 24 finished with value: 0.13456398545912443 and parameters: {'max_depth': 10, 'max_leaves': 9, 'n_estimators': 201}. Best is trial 1 with value: 0.018298317069282085.\n",
      "[I 2023-08-19 12:37:24,625] Trial 25 finished with value: 0.13056249427145117 and parameters: {'max_depth': 7, 'max_leaves': 8, 'n_estimators': 101}. Best is trial 1 with value: 0.018298317069282085.\n",
      "[I 2023-08-19 12:37:26,106] Trial 26 finished with value: 0.1624276540473411 and parameters: {'max_depth': 4, 'max_leaves': 7, 'n_estimators': 401}. Best is trial 1 with value: 0.018298317069282085.\n",
      "[I 2023-08-19 12:37:27,433] Trial 27 finished with value: 0.19875746255928792 and parameters: {'max_depth': 9, 'max_leaves': 10, 'n_estimators': 451}. Best is trial 1 with value: 0.018298317069282085.\n",
      "[I 2023-08-19 12:37:28,070] Trial 28 finished with value: 0.14657137450068813 and parameters: {'max_depth': 6, 'max_leaves': 6, 'n_estimators': 101}. Best is trial 1 with value: 0.018298317069282085.\n",
      "[I 2023-08-19 12:37:29,526] Trial 29 finished with value: 0.16563577971524035 and parameters: {'max_depth': 3, 'max_leaves': 9, 'n_estimators': 451}. Best is trial 1 with value: 0.018298317069282085.\n"
     ]
    }
   ],
   "source": [
    "loader = SystemLoader(generator.df, train_interval=TRAIN_INTERVAL)\n",
    "hyper_opt_xgb = HyperOptXGBoost(loader, n_systems=N_SYSTEMS)\n",
    "study_xgb = hyper_opt_xgb.run_study(n_trials=30)"
   ]
  },
  {
   "cell_type": "code",
   "execution_count": null,
   "metadata": {},
   "outputs": [],
   "source": []
  },
  {
   "cell_type": "code",
   "execution_count": null,
   "metadata": {},
   "outputs": [],
   "source": []
  }
 ],
 "metadata": {
  "kernelspec": {
   "display_name": "gp",
   "language": "python",
   "name": "python3"
  },
  "language_info": {
   "codemirror_mode": {
    "name": "ipython",
    "version": 3
   },
   "file_extension": ".py",
   "mimetype": "text/x-python",
   "name": "python",
   "nbconvert_exporter": "python",
   "pygments_lexer": "ipython3",
   "version": "3.11.3"
  },
  "orig_nbformat": 4
 },
 "nbformat": 4,
 "nbformat_minor": 2
}
