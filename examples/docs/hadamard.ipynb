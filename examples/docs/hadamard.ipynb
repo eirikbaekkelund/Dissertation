{
 "cells": [
  {
   "cell_type": "code",
   "execution_count": null,
   "metadata": {},
   "outputs": [],
   "source": [
    "import sys\n",
    "import os\n",
    "sys.path.append(os.path.abspath('../..'))\n",
    "from data import PVWeatherGenerator, SystemLoader\n"
   ]
  },
  {
   "cell_type": "code",
   "execution_count": null,
   "metadata": {},
   "outputs": [],
   "source": [
    "# data parameters\n",
    "DAY_INIT = 0\n",
    "DAY_MIN = 8\n",
    "DAY_MAX = 16\n",
    "N_DAYS_FOLD = 7\n",
    "MINUTE_INTERVAL = 5\n",
    "DAILY_DATA_POINTS = (DAY_MAX - DAY_MIN) * 60 // MINUTE_INTERVAL\n",
    "N_SYSTEMS = 6\n",
    "CIRCLE_COORDS = (53.28, -3.05)\n",
    "RADIUS = 0.25"
   ]
  },
  {
   "cell_type": "code",
   "execution_count": null,
   "metadata": {},
   "outputs": [],
   "source": [
    "generator = PVWeatherGenerator(\n",
    "    coords=CIRCLE_COORDS,\n",
    "    radius=RADIUS,\n",
    "    day_init=DAY_INIT,\n",
    "    n_systems=N_SYSTEMS,\n",
    "    n_days=365,\n",
    "    minute_interval=MINUTE_INTERVAL,\n",
    ")\n",
    "df = generator.df"
   ]
  },
  {
   "cell_type": "code",
   "execution_count": null,
   "metadata": {},
   "outputs": [],
   "source": [
    "individual_interval = int(DAILY_DATA_POINTS * N_DAYS_FOLD)\n",
    "loader = SystemLoader(df, train_interval=individual_interval)"
   ]
  },
  {
   "cell_type": "code",
   "execution_count": null,
   "metadata": {},
   "outputs": [],
   "source": [
    "# from pv_plot import plot_grid\n",
    "# CIRCLE_COORDS = (53.28, -3.05)\n",
    "# RADIUS = 0.25\n",
    "# plot_grid(df, CIRCLE_COORDS, RADIUS)"
   ]
  },
  {
   "cell_type": "code",
   "execution_count": null,
   "metadata": {},
   "outputs": [],
   "source": [
    "x, _,_,_,_,_ = next(iter(loader))\n",
    "d = x.shape[1]\n",
    "print(d)"
   ]
  },
  {
   "cell_type": "code",
   "execution_count": null,
   "metadata": {},
   "outputs": [],
   "source": [
    "from kernels import get_mean_covar_weather\n",
    "\n",
    "num_tasks = N_SYSTEMS\n",
    "num_latents = N_SYSTEMS // 2 + 1\n",
    "mean, covar = get_mean_covar_weather(num_latents=num_latents,\n",
    "                                      d=d,\n",
    "                                      combine='product')\n",
    "\n",
    "interval = 6"
   ]
  },
  {
   "cell_type": "code",
   "execution_count": null,
   "metadata": {},
   "outputs": [],
   "source": [
    "import torch\n",
    "import matplotlib.pyplot as plt\n",
    "from models import HadamardGPModel\n",
    "from likelihoods import HadamardBetaLikelihood\n",
    "\n",
    "for X_tr, Y_tr, X_te, Y_te, T_tr, T_te in loader:\n",
    "  \n",
    "    mean, covar = get_mean_covar_weather(num_latents, d, combine='product', weather_kernel='matern')\n",
    "    model = HadamardGPModel(\n",
    "        X=X_tr[::interval],\n",
    "        y=Y_tr[::interval],\n",
    "        mean_module=mean,\n",
    "        covar_module=covar,\n",
    "        likelihood=HadamardBetaLikelihood(num_tasks=num_tasks, scale=20),\n",
    "        num_tasks=num_tasks,\n",
    "        num_latents=num_latents,\n",
    "        learn_inducing_locations=True,\n",
    "        inducing_proportion=1.0,\n",
    "        jitter=1e-6,\n",
    "    )\n",
    "    model.set_cpu()\n",
    "    model.fit(n_iter=100, \n",
    "          lr=0.2, \n",
    "          task_indices=T_tr[::interval],\n",
    "          verbose=True)\n",
    "    break\n",
    "\n",
    "\n",
    "    # fig, ax = plt.subplots(num_tasks // 2, 2, figsize=(30, 5 * (num_tasks)), sharex=True, sharey=True)\n",
    "    #  ax = ax.flatten()\n",
    "    # plt.rcParams['font.serif'] = ['Times New Roman']\n",
    "    \n",
    "\n",
    "    # for i in range(num_tasks):\n",
    "    #     _, y_tr, _, y_te = loader.train_test_split_individual(i)\n",
    "    #     n_tr, n_te = y_tr.shape[0], y_te.shape[0]\n",
    "    #     t = torch.linspace(0, int(N_DAYS_FOLD * DAILY_DATA_POINTS), n_tr + n_te)\n",
    "    #     t_tr, t_te = t[:n_tr], t[n_tr:]\n",
    "\n",
    "    #     y_pred_tr, lower_tr, upper_tr = model.get_i_prediction(i, T_tr)\n",
    "    #     ax[i].scatter(t_tr, y_tr, color='black', marker='x', label='Observed Data', alpha=0.5)\n",
    "    #     ax[i].scatter(t_te, y_te, color='black', marker='x', alpha=0.5)\n",
    "    #     ax[i].plot(t_tr, y_pred_tr, color='blue')\n",
    "    #     ax[i].fill_between(t_tr, lower_tr, upper_tr, color='blue', alpha=0.1)\n",
    "    \n",
    "    # model.predict(X_te, T_te)\n",
    "    # pred_dist = model.predict_dist()\n",
    "  \n",
    "    # for i in range(num_tasks):\n",
    "    #     x_tr, y_tr, x_te, y_te = loader.train_test_split_individual(i)\n",
    "    #     n_tr, n_te = y_tr.shape[0], y_te.shape[0]\n",
    "    #     t = torch.linspace(0, int(N_DAYS_FOLD * DAILY_DATA_POINTS), n_tr + n_te)\n",
    "    #     t_tr, t_te = t[:n_tr], t[n_tr:]\n",
    "\n",
    "    #     y_pred_te, lower_te, upper_te = model.get_i_prediction(i, T_te)\n",
    "#         if i == 0:\n",
    "#             ax[i].plot(t_te, y_pred_te, color='red')\n",
    "#             ax[i].fill_between(t_te, lower_te, upper_te, color='red', alpha=0.1)\n",
    "#         else:\n",
    "#             ax[i].plot(t_te, y_pred_te, color='red')\n",
    "#             ax[i].fill_between(t_te, lower_te, upper_te, color='red', alpha=0.1)\n",
    "#         ax[i].axvline(t_tr.max(), color='black', linestyle='--', label='Train/Test Split')\n",
    "#         ax[i].set_ylim(-0.01, 1.01)\n",
    "#         ax[i].set_title(f'Task {i+1}', fontsize=30)\n",
    "       \n",
    "#         # set y label for left column\n",
    "#         if i % 2 == 0:\n",
    "#             ax[i].set_ylabel('PV Output (0-1 Scale)', fontsize=30)\n",
    "#             # add y ticks\n",
    "#             y_ticks = [0, 0.0, 0.25, 0.5, 0.75, 1.0]\n",
    "#             ax[i].set_yticklabels(y_ticks, fontsize=25)\n",
    "#         # set x label for bottom row\n",
    "#         if i >= num_tasks - 2:\n",
    "#             ax[i].set_xlabel('Time Steps (5 Minute Intervals)', fontsize=30)\n",
    "#             # add x ticks\n",
    "#             ax[i].set_xticklabels([0, 0, 100, 200, 300, 400, 500, 600], fontsize=25)\n",
    "        \n",
    "#         if i == 0:\n",
    "#             ax[i].legend(fontsize=30)\n",
    "      \n",
    "#     for i in range(num_tasks, len(ax)):\n",
    "#         ax[i].axis('off')\n",
    "\n",
    "# plt.tight_layout()\n",
    "# plt.show()\n",
    "# hide all outputs\n",
    "\n",
    "\n"
   ]
  },
  {
   "cell_type": "code",
   "execution_count": null,
   "metadata": {},
   "outputs": [],
   "source": [
    "t_uniques = torch.unique(T_tr)\n",
    "\n",
    "for i in t_uniques:\n",
    "    model(X_te[T_te == i], task_indices=T_te[T_te == i])\n",
    "model(X_te, task_indices=T_te)"
   ]
  },
  {
   "cell_type": "code",
   "execution_count": null,
   "metadata": {},
   "outputs": [],
   "source": []
  }
 ],
 "metadata": {
  "kernelspec": {
   "display_name": "gp",
   "language": "python",
   "name": "python3"
  },
  "language_info": {
   "codemirror_mode": {
    "name": "ipython",
    "version": 3
   },
   "file_extension": ".py",
   "mimetype": "text/x-python",
   "name": "python",
   "nbconvert_exporter": "python",
   "pygments_lexer": "ipython3",
   "version": "3.11.3"
  },
  "orig_nbformat": 4
 },
 "nbformat": 4,
 "nbformat_minor": 2
}
