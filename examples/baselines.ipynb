{
 "cells": [
  {
   "cell_type": "code",
   "execution_count": 2,
   "metadata": {},
   "outputs": [],
   "source": [
    "import sys\n",
    "import os\n",
    "sys.path.append(os.path.abspath(os.path.join('..')))\n",
    "from data import PVDataLoader, PVDataGenerator\n",
    "from data.utils import train_test_split"
   ]
  },
  {
   "cell_type": "code",
   "execution_count": 98,
   "metadata": {},
   "outputs": [],
   "source": [
    "# data parameters\n",
    "DAY_INIT = 0\n",
    "DAY_MIN = 8\n",
    "DAY_MAX = 16\n",
    "N_DAYS = 5\n",
    "N_DAYS_TRAIN = 5\n",
    "MINUTE_INTERVAL = 5\n",
    "DAILY_DATA_POINTS = (DAY_MAX - DAY_MIN) * 60 / MINUTE_INTERVAL\n",
    "N_HOURS_PRED = 2\n",
    "N_SYSTEMS = 3\n",
    "RADIUS = 0.35\n",
    "CIRCLE_COORDS = (55, -1.5)\n",
    "# create a tuple of 4 coordinates that form a polygon in the uk\n",
    "\n",
    "POLY_COORDS = ((50, -6), (50.5, 1.9), (57.6, -5.5), (58, 1.9))"
   ]
  },
  {
   "cell_type": "code",
   "execution_count": 99,
   "metadata": {},
   "outputs": [
    {
     "name": "stdout",
     "output_type": "stream",
     "text": [
      "==> Loading data\n",
      "==> Loaded data in: 0 m : 18 sec\n",
      "\n",
      "==> Loading data\n",
      "==> Loaded data in: 0 m : 0 sec\n",
      "\n"
     ]
    }
   ],
   "source": [
    "loader = PVDataGenerator(n_days=N_DAYS,\n",
    "                    day_init=DAY_INIT,\n",
    "                    n_systems=N_SYSTEMS,\n",
    "                    coords=CIRCLE_COORDS,\n",
    "                    minute_interval=MINUTE_INTERVAL,\n",
    "                    day_min=DAY_MIN,\n",
    "                    day_max=DAY_MAX,\n",
    "                    folder_name='pv_data',\n",
    "                    file_name_pv='pv_data_clean.csv',\n",
    "                    file_name_location='location_data_clean.csv',\n",
    "                    distance_method='circle',\n",
    "                    drop_nan=False)\n",
    "\n",
    "X, y = loader.get_time_series()"
   ]
  },
  {
   "cell_type": "code",
   "execution_count": 100,
   "metadata": {},
   "outputs": [],
   "source": [
    "x_train, y_train, x_test, y_test = train_test_split(X, y, hour=12, minute_interval=MINUTE_INTERVAL, n_hours=N_HOURS_PRED)"
   ]
  },
  {
   "cell_type": "code",
   "execution_count": 101,
   "metadata": {},
   "outputs": [
    {
     "data": {
      "text/plain": [
       "torch.Size([409, 3])"
      ]
     },
     "execution_count": 101,
     "metadata": {},
     "output_type": "execute_result"
    }
   ],
   "source": [
    "y_train.shape"
   ]
  },
  {
   "cell_type": "code",
   "execution_count": 146,
   "metadata": {},
   "outputs": [],
   "source": [
    "import numpy as np\n",
    "\n",
    "def create_df(y_train):\n",
    "    intervals = y_train.size(0) \n",
    "    \n",
    "    unique_ids = np.zeros_like(y_train).flatten()\n",
    "    unique_ids[::intervals] = 1\n",
    "    unique_ids = np.cumsum(unique_ids)\n",
    "    \n",
    "    y_train = y_train.flatten()\n",
    "    idx = [i for i in range(intervals)] * int(unique_ids[-1])\n",
    "    df = pd.DataFrame({'y': y_train, 'unique_id': unique_ids, 'ds': idx})\n",
    "\n",
    "  \n",
    "\n",
    "    return df\n",
    "\n",
    "df_train = create_df(y_train)\n",
    "df_test = create_df(y_test)"
   ]
  },
  {
   "cell_type": "code",
   "execution_count": 163,
   "metadata": {},
   "outputs": [],
   "source": [
    "from abc import ABC, abstractmethod\n",
    "from statsforecast.models import(\n",
    "    AutoARIMA,\n",
    "    HoltWinters,\n",
    "    SeasonalNaive\n",
    ")\n",
    "\n",
    "from data.utils import get_hourly_points, get_daily_points\n",
    "\n",
    "class BaselineForecast(ABC):\n",
    "    def __init__(self, y_train, day_min, day_max, minute_interval):\n",
    "        self.y_train = y_train\n",
    "        self.n_hourly_points = get_hourly_points(day_min, day_max, minute_interval)\n",
    "        self.daily_points = get_daily_points(day_min, day_max, minute_interval)\n",
    "    \n",
    "    @abstractmethod\n",
    "    def fit(self):\n",
    "        \"\"\" \n",
    "        Fit the model\n",
    "        \"\"\"\n",
    "        pass\n",
    "\n",
    "    @abstractmethod\n",
    "    def predict(self, n_hours):\n",
    "        \"\"\" \n",
    "        Predict n_steps ahead\n",
    "        \"\"\"\n",
    "        pass\n",
    "\n",
    "class PersistenceForecast(BaselineForecast):\n",
    "   \n",
    "    def fit(self):\n",
    "        pass\n",
    "\n",
    "    def predict(self, n_hours):\n",
    "        return self.y_train[-1].repeat(n_hours * self.n_hourly_points)\n",
    "\n",
    "class YesterdayForecast(BaselineForecast):\n",
    "    \n",
    "    def fit(self):\n",
    "        pass\n",
    "\n",
    "    def predict(self, n_hours):\n",
    "        start_idx = self.daily_points\n",
    "        end_idx = start_idx + self.n_hourly_points * n_hours\n",
    "        return self.y_train[start_idx:end_idx]\n",
    "\n",
    "class HourlySmoothing(BaselineForecast):\n",
    "    def fit(self):\n",
    "        pass\n",
    "\n",
    "    def predict(self, n_hours):\n",
    "        \"\"\" \n",
    "        Perform hourly smoothing based on the number of points\n",
    "        per hour. If T is the number of points per hour, and\n",
    "        K is the minute interval, then the smoothing is performed\n",
    "\n",
    "        y_{t + \\delta t} = 1/T * sum_{i=1}^T y_{t + \\delta t - K * i}\n",
    "            \n",
    "            where \\delta t is the number of hours ahead to predict\n",
    "        \"\"\"\n",
    "        rolling_mean = self.y_train.rolling(1).mean()\n",
    "        print(rolling_mean)\n",
    "        \n",
    "\n",
    "\n",
    "\n",
    "        "
   ]
  },
  {
   "cell_type": "code",
   "execution_count": 164,
   "metadata": {},
   "outputs": [],
   "source": [
    "persistence = PersistenceForecast(y_train, DAY_MIN, DAY_MAX, MINUTE_INTERVAL)\n",
    "yesterday = YesterdayForecast(y_train, DAY_MIN, DAY_MAX, MINUTE_INTERVAL)\n",
    "hourly = HourlySmoothing(y_train, DAY_MIN, DAY_MAX, MINUTE_INTERVAL)"
   ]
  },
  {
   "cell_type": "code",
   "execution_count": 21,
   "metadata": {},
   "outputs": [],
   "source": [
    "persistence_pred = persistence.predict(n_hours=2)\n",
    "yday_pred = yesterday.predict(n_hours=2)\n"
   ]
  },
  {
   "cell_type": "code",
   "execution_count": 22,
   "metadata": {},
   "outputs": [
    {
     "name": "stdout",
     "output_type": "stream",
     "text": [
      "torch.Size([24]) torch.Size([24])\n"
     ]
    }
   ],
   "source": [
    "print(persistence_pred.shape, yday_pred.shape)"
   ]
  },
  {
   "cell_type": "code",
   "execution_count": 24,
   "metadata": {},
   "outputs": [
    {
     "name": "stdout",
     "output_type": "stream",
     "text": [
      "torch.Size([24])\n"
     ]
    },
    {
     "data": {
      "text/plain": [
       "<matplotlib.legend.Legend at 0x1b3979dd0>"
      ]
     },
     "execution_count": 24,
     "metadata": {},
     "output_type": "execute_result"
    },
    {
     "data": {
      "image/png": "[encoded data removed]",
      "text/plain": [
       "<Figure size 640x480 with 1 Axes>"
      ]
     },
     "metadata": {},
     "output_type": "display_data"
    }
   ],
   "source": [
    "import torch\n",
    "from matplotlib import pyplot as plt\n",
    "\n",
    "t = torch.arange(0, len(y))\n",
    "t_train = t[:len(y_train)]\n",
    "t_test = t[len(y_train):len(y_train)+len(y_test)]\n",
    "\n",
    "print(t_test.shape)\n",
    "\n",
    "plt.plot(t_train, y_train, label='train')\n",
    "plt.plot(t_test, y_test, label='test')\n",
    "plt.plot(t_test, yday_pred, label='yesterday pred')\n",
    "plt.plot(t_test, persistence_pred, label='persistence pred')\n",
    "\n",
    "plt.legend()"
   ]
  },
  {
   "cell_type": "code",
   "execution_count": null,
   "metadata": {},
   "outputs": [],
   "source": []
  }
 ],
 "metadata": {
  "kernelspec": {
   "display_name": "gp",
   "language": "python",
   "name": "python3"
  },
  "language_info": {
   "codemirror_mode": {
    "name": "ipython",
    "version": 3
   },
   "file_extension": ".py",
   "mimetype": "text/x-python",
   "name": "python",
   "nbconvert_exporter": "python",
   "pygments_lexer": "ipython3",
   "version": "3.11.3"
  },
  "orig_nbformat": 4
 },
 "nbformat": 4,
 "nbformat_minor": 2
}
