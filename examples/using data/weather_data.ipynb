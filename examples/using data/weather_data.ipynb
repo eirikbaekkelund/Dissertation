{
 "cells": [
  {
   "cell_type": "code",
   "execution_count": 29,
   "metadata": {},
   "outputs": [],
   "source": [
    "import pandas as pd\n",
    "import numpy as np\n",
    "from matplotlib import pyplot as plt\n",
    "import os \n",
    "import sys\n",
    "sys.path.append(os.path.abspath('../..'))"
   ]
  },
  {
   "cell_type": "markdown",
   "metadata": {},
   "source": [
    "# Merging PV Values and Weather Data together"
   ]
  },
  {
   "cell_type": "code",
   "execution_count": 34,
   "metadata": {},
   "outputs": [],
   "source": [
    "def preprocess_weather(df):\n",
    "    \"\"\" \n",
    "    Scales the weather data and extracts the relevant time interval.\n",
    "    Keeps only neccessary columns.\n",
    "    \"\"\"\n",
    "     # Convert the column to datetime format\n",
    "    df[\"validdate\"] = pd.to_datetime(df[\"validdate\"])\n",
    "    df['datetime'] = df['validdate'].dt.strftime('%Y-%m-%d %H:%M:%S')\n",
    "\n",
    "    # Extract the date and time components into separate columns\n",
    "    df[\"time\"] = df[\"validdate\"].dt.strftime(\"%H:%M\")\n",
    "    # keep only values where time is between 08:00 and 16:00\n",
    "    df = df[(df['time'] >= '08:00') & (df['time'] <= '16:00')]\n",
    "    df = df.drop(columns=['validdate', 'time'], axis=1)\n",
    "\n",
    "    # standardise the data\n",
    "    for col in df.columns:\n",
    "        if col in ['datetime', 'lat', 'lon']:\n",
    "            continue\n",
    "\n",
    "        df[col] = (df[col]  - df[col].min())/ (df[col].max() - df[col].min())\n",
    "\n",
    "    return df\n",
    "\n",
    "def load_weather_data():\n",
    "    # get path to directory\n",
    "    current_directory = os.getcwd().split(\"Dissertation\")[0] + 'pv_data/weather_data'\n",
    "    # get list of files in directory\n",
    "    files = os.listdir(current_directory)\n",
    "    # remove DS_Store file\n",
    "    files.pop(0)\n",
    "    # sort files\n",
    "    files.sort()\n",
    "\n",
    "    df_dict = {}\n",
    "    for file in files:\n",
    "        path_to_file = os.path.join(current_directory, file)\n",
    "        df = pd.read_csv(path_to_file, sep=';')\n",
    "        df = preprocess_weather(df)\n",
    "        df_dict[file] = df\n",
    "    \n",
    "    return df_dict    "
   ]
  },
  {
   "cell_type": "code",
   "execution_count": 35,
   "metadata": {},
   "outputs": [],
   "source": [
    "df_dict = load_weather_data()"
   ]
  },
  {
   "cell_type": "code",
   "execution_count": 36,
   "metadata": {},
   "outputs": [],
   "source": [
    "df_list = [df for df in df_dict.values()]\n",
    "df_weather = pd.concat(df_list, axis=0)"
   ]
  },
  {
   "cell_type": "code",
   "execution_count": 37,
   "metadata": {},
   "outputs": [
    {
     "data": {
      "text/html": [
       "<div>\n",
       "<style scoped>\n",
       "    .dataframe tbody tr th:only-of-type {\n",
       "        vertical-align: middle;\n",
       "    }\n",
       "\n",
       "    .dataframe tbody tr th {\n",
       "        vertical-align: top;\n",
       "    }\n",
       "\n",
       "    .dataframe thead th {\n",
       "        text-align: right;\n",
       "    }\n",
       "</style>\n",
       "<table border=\"1\" class=\"dataframe\">\n",
       "  <thead>\n",
       "    <tr style=\"text-align: right;\">\n",
       "      <th></th>\n",
       "      <th>lat</th>\n",
       "      <th>lon</th>\n",
       "      <th>t_2m:C</th>\n",
       "      <th>relative_humidity_2m:p</th>\n",
       "      <th>wind_speed_10m:ms</th>\n",
       "      <th>diffuse_rad:W</th>\n",
       "      <th>global_rad:W</th>\n",
       "      <th>effective_cloud_cover:octas</th>\n",
       "      <th>datetime</th>\n",
       "    </tr>\n",
       "  </thead>\n",
       "  <tbody>\n",
       "    <tr>\n",
       "      <th>0</th>\n",
       "      <td>53.33</td>\n",
       "      <td>-2.99</td>\n",
       "      <td>0.304225</td>\n",
       "      <td>0.808659</td>\n",
       "      <td>0.222930</td>\n",
       "      <td>0.000000</td>\n",
       "      <td>0.000000</td>\n",
       "      <td>0.500</td>\n",
       "      <td>2018-01-01 08:00:00</td>\n",
       "    </tr>\n",
       "    <tr>\n",
       "      <th>1</th>\n",
       "      <td>53.33</td>\n",
       "      <td>-2.99</td>\n",
       "      <td>0.301408</td>\n",
       "      <td>0.835196</td>\n",
       "      <td>0.210191</td>\n",
       "      <td>0.007789</td>\n",
       "      <td>0.015471</td>\n",
       "      <td>0.750</td>\n",
       "      <td>2018-01-01 09:00:00</td>\n",
       "    </tr>\n",
       "    <tr>\n",
       "      <th>2</th>\n",
       "      <td>53.33</td>\n",
       "      <td>-2.99</td>\n",
       "      <td>0.329577</td>\n",
       "      <td>0.789106</td>\n",
       "      <td>0.242038</td>\n",
       "      <td>0.091372</td>\n",
       "      <td>0.041628</td>\n",
       "      <td>0.500</td>\n",
       "      <td>2018-01-01 10:00:00</td>\n",
       "    </tr>\n",
       "    <tr>\n",
       "      <th>3</th>\n",
       "      <td>53.33</td>\n",
       "      <td>-2.99</td>\n",
       "      <td>0.357746</td>\n",
       "      <td>0.744413</td>\n",
       "      <td>0.273885</td>\n",
       "      <td>0.072798</td>\n",
       "      <td>0.149720</td>\n",
       "      <td>0.375</td>\n",
       "      <td>2018-01-01 11:00:00</td>\n",
       "    </tr>\n",
       "    <tr>\n",
       "      <th>4</th>\n",
       "      <td>53.33</td>\n",
       "      <td>-2.99</td>\n",
       "      <td>0.385915</td>\n",
       "      <td>0.705307</td>\n",
       "      <td>0.305732</td>\n",
       "      <td>0.086579</td>\n",
       "      <td>0.178117</td>\n",
       "      <td>0.125</td>\n",
       "      <td>2018-01-01 12:00:00</td>\n",
       "    </tr>\n",
       "  </tbody>\n",
       "</table>\n",
       "</div>"
      ],
      "text/plain": [
       "     lat   lon    t_2m:C  relative_humidity_2m:p  wind_speed_10m:ms  \\\n",
       "0  53.33 -2.99  0.304225                0.808659           0.222930   \n",
       "1  53.33 -2.99  0.301408                0.835196           0.210191   \n",
       "2  53.33 -2.99  0.329577                0.789106           0.242038   \n",
       "3  53.33 -2.99  0.357746                0.744413           0.273885   \n",
       "4  53.33 -2.99  0.385915                0.705307           0.305732   \n",
       "\n",
       "   diffuse_rad:W  global_rad:W  effective_cloud_cover:octas  \\\n",
       "0       0.000000      0.000000                        0.500   \n",
       "1       0.007789      0.015471                        0.750   \n",
       "2       0.091372      0.041628                        0.500   \n",
       "3       0.072798      0.149720                        0.375   \n",
       "4       0.086579      0.178117                        0.125   \n",
       "\n",
       "              datetime  \n",
       "0  2018-01-01 08:00:00  \n",
       "1  2018-01-01 09:00:00  \n",
       "2  2018-01-01 10:00:00  \n",
       "3  2018-01-01 11:00:00  \n",
       "4  2018-01-01 12:00:00  "
      ]
     },
     "execution_count": 37,
     "metadata": {},
     "output_type": "execute_result"
    }
   ],
   "source": [
    "df_weather.head()"
   ]
  },
  {
   "cell_type": "code",
   "execution_count": 38,
   "metadata": {},
   "outputs": [],
   "source": [
    "# data parameters\n",
    "DAY_INIT = 0\n",
    "DAY_MIN = 8\n",
    "DAY_MAX = 16\n",
    "N_DAYS = 365\n",
    "MINUTE_INTERVAL = 5\n",
    "DAILY_DATA_POINTS = (DAY_MAX - DAY_MIN) * 60 // MINUTE_INTERVAL\n",
    "N_SYSTEMS = 500\n",
    "# create a tuple of 4 coordinates that form a polygon in the uk\n",
    "\n",
    "POLY_COORDS = ((50, -6), (50.5, 1.9), (57.6, -5.5), (58, 1.9))"
   ]
  },
  {
   "cell_type": "code",
   "execution_count": 39,
   "metadata": {},
   "outputs": [
    {
     "name": "stdout",
     "output_type": "stream",
     "text": [
      "==> Loading data\n",
      "==> Loaded data in: 0 m : 1 sec\n",
      "\n",
      "==> Loading data\n",
      "==> Loaded data in: 0 m : 0 sec\n",
      "\n"
     ]
    }
   ],
   "source": [
    "from data import PVDataGenerator\n",
    "generator = PVDataGenerator(n_days=N_DAYS,\n",
    "                    day_init=DAY_INIT,\n",
    "                    n_systems=N_SYSTEMS,\n",
    "                    coords=POLY_COORDS,\n",
    "                    minute_interval=MINUTE_INTERVAL,\n",
    "                    day_min=DAY_MIN,\n",
    "                    day_max=DAY_MAX,\n",
    "                    folder_name='pv_data',\n",
    "                    file_name_pv='pv_data_clean.csv',\n",
    "                    file_name_location='location_data_clean.csv',\n",
    "                    distance_method='poly',\n",
    "                    drop_nan=False)"
   ]
  },
  {
   "cell_type": "code",
   "execution_count": 43,
   "metadata": {},
   "outputs": [],
   "source": [
    "def get_season(month):\n",
    "    if month in [12, 1, 2]:\n",
    "        return 'winter'\n",
    "    elif month in [3, 4, 5]:\n",
    "        return 'spring'\n",
    "    elif month in [6, 7, 8]:\n",
    "        return 'summer'\n",
    "    else:\n",
    "        return 'fall'"
   ]
  },
  {
   "cell_type": "code",
   "execution_count": 44,
   "metadata": {},
   "outputs": [],
   "source": [
    "df_pv = generator.pv_series\n",
    "df_pv['month'] = df_pv['datetime'].dt.month\n",
    "df_pv['season'] = df_pv['datetime'].dt.month.apply(lambda x: get_season(x))\n",
    "df_pv = df_pv.drop(['epoch', 'farm'], axis=1)"
   ]
  },
  {
   "cell_type": "code",
   "execution_count": 45,
   "metadata": {},
   "outputs": [],
   "source": [
    "\n",
    "def merge_weather_and_pv(df_weather, df_pv,):\n",
    "    # Convert 'datetime' columns to datetime type if not already done\n",
    "    df_pv['datetime'] = pd.to_datetime(df_pv['datetime'])\n",
    "    df_weather['datetime'] = pd.to_datetime(df_weather['datetime'])\n",
    "\n",
    "    # get the data in df_pv that has the latitude longitude pairs from unique_coords\n",
    "    unique_coords = df_weather[['lat', 'lon']].drop_duplicates()\n",
    "    merged_dataframes = []\n",
    "\n",
    "    for index, row in unique_coords.iterrows():\n",
    "        lat, lon = row['lat'], row['lon']\n",
    "        pv_test = df_pv[(df_pv['latitude'] == lat) & (df_pv['longitude'] == lon)]\n",
    "        weather_test = df_weather[(df_weather['lat'] == lat) & (df_weather['lon'] == lon)]\n",
    "        weather_test = weather_test.drop(['lat', 'lon'], axis=1)\n",
    "\n",
    "        merged_df = pv_test.merge(weather_test, how='outer', on='datetime')\n",
    "        # set index to datetime\n",
    "        \n",
    "        # interpolate nan values\n",
    "        for col in merged_df.columns:\n",
    "            if col in ['latitude', 'longitude', 'season']:\n",
    "                continue\n",
    "            \n",
    "            if merged_df[col].isnull().values.any():\n",
    "                merged_df[col] = merged_df[col].interpolate(method='linear', limit_direction='both')\n",
    "        merged_dataframes.append(merged_df)\n",
    "    # concatenate all the merged data frames into a single data frame\n",
    "    final_merged_df = pd.concat(merged_dataframes, ignore_index=True)\n",
    "    \n",
    "    return final_merged_df\n",
    "\n"
   ]
  },
  {
   "cell_type": "code",
   "execution_count": 46,
   "metadata": {},
   "outputs": [],
   "source": [
    "df = merge_weather_and_pv(df_weather=df_weather, df_pv=df_pv)"
   ]
  },
  {
   "cell_type": "code",
   "execution_count": 47,
   "metadata": {},
   "outputs": [],
   "source": [
    "from data.utils import save_csv\n",
    "save_csv(df, folder_name='pv_data', file_name='pv_and_weather.csv')\n",
    "unique_lat_lon = df[['latitude', 'longitude']].drop_duplicates()\n",
    "save_csv(unique_lat_lon, folder_name='pv_data', file_name='location_data_weather_clean.csv')"
   ]
  }
 ],
 "metadata": {
  "kernelspec": {
   "display_name": "gp",
   "language": "python",
   "name": "python3"
  },
  "language_info": {
   "codemirror_mode": {
    "name": "ipython",
    "version": 3
   },
   "file_extension": ".py",
   "mimetype": "text/x-python",
   "name": "python",
   "nbconvert_exporter": "python",
   "pygments_lexer": "ipython3",
   "version": "3.11.3"
  },
  "orig_nbformat": 4
 },
 "nbformat": 4,
 "nbformat_minor": 2
}
