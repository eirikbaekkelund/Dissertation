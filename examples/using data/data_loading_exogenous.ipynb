{
 "cells": [
  {
   "cell_type": "code",
   "execution_count": 1,
   "metadata": {},
   "outputs": [],
   "source": [
    "import torch\n",
    "import sys\n",
    "import os \n",
    "sys.path.append(os.path.abspath('../..'))\n",
    "\n",
    "from data import PVWeatherGenerator"
   ]
  },
  {
   "cell_type": "code",
   "execution_count": 2,
   "metadata": {},
   "outputs": [],
   "source": [
    "# data parameters\n",
    "DAY_INIT = 0\n",
    "DAY_MIN = 8\n",
    "DAY_MAX = 16\n",
    "N_DAYS = 365\n",
    "MINUTE_INTERVAL = 5\n",
    "DAILY_DATA_POINTS = (DAY_MAX - DAY_MIN) * 60 // MINUTE_INTERVAL\n",
    "N_DAYS_FOLD = 8\n",
    "N_SYSTEMS = 10\n",
    "CIRCLE_COORDS = (53.5, -3)\n",
    "RADIUS = 0.4\n"
   ]
  },
  {
   "cell_type": "code",
   "execution_count": 3,
   "metadata": {},
   "outputs": [
    {
     "name": "stdout",
     "output_type": "stream",
     "text": [
      "==> Loading data\n",
      "==> Loaded data in: 0 m : 10 sec\n",
      "\n"
     ]
    }
   ],
   "source": [
    "generator = PVWeatherGenerator(\n",
    "    coords=CIRCLE_COORDS,\n",
    "    radius=RADIUS,\n",
    "    day_init=DAY_INIT,\n",
    "    n_systems=N_SYSTEMS,\n",
    "    n_days=N_DAYS,\n",
    "    minute_interval=MINUTE_INTERVAL,\n",
    ")"
   ]
  },
  {
   "cell_type": "code",
   "execution_count": 4,
   "metadata": {},
   "outputs": [],
   "source": [
    "df = generator.df"
   ]
  },
  {
   "cell_type": "code",
   "execution_count": 5,
   "metadata": {},
   "outputs": [],
   "source": [
    "systems_interval = int(DAILY_DATA_POINTS * N_DAYS_FOLD * N_SYSTEMS)\n",
    "individual_interval = int(DAILY_DATA_POINTS * N_DAYS_FOLD)"
   ]
  },
  {
   "cell_type": "code",
   "execution_count": 6,
   "metadata": {},
   "outputs": [
    {
     "data": {
      "text/plain": [
       "(7680, 768)"
      ]
     },
     "execution_count": 6,
     "metadata": {},
     "output_type": "execute_result"
    }
   ],
   "source": [
    "systems_interval, individual_interval"
   ]
  },
  {
   "cell_type": "code",
   "execution_count": 7,
   "metadata": {},
   "outputs": [],
   "source": [
    "from data import SystemLoader"
   ]
  },
  {
   "cell_type": "code",
   "execution_count": 8,
   "metadata": {},
   "outputs": [],
   "source": [
    "X = df[['global_rad:W', 'diffuse_rad:W',\n",
    "        'effective_cloud_cover:octas',\n",
    "        'relative_humidity_2m:p', 't_2m:C',\n",
    "        'wind_speed_10m:ms', 'latitude', 'longitude']]\n",
    "y = df['PV']\n",
    "loader = SystemLoader(X, y, train_interval=individual_interval)\n"
   ]
  },
  {
   "cell_type": "code",
   "execution_count": 9,
   "metadata": {},
   "outputs": [
    {
     "name": "stdout",
     "output_type": "stream",
     "text": [
      "Points per system: 35295\n",
      "Total points: 352950\n"
     ]
    }
   ],
   "source": [
    "# number of points for each individual system\n",
    "print(f'Points per system: {loader.tasks[loader.tasks == 0].shape[0]}')\n",
    "# total number of points\n",
    "print(f'Total points: {loader.tasks.shape[0]}')"
   ]
  },
  {
   "cell_type": "code",
   "execution_count": 10,
   "metadata": {},
   "outputs": [
    {
     "name": "stdout",
     "output_type": "stream",
     "text": [
      "start index: 0 | end index: 768\n",
      "start index: 768 | end index: 1536\n"
     ]
    }
   ],
   "source": [
    "from data.utils import get_lat_lon_col_names\n",
    "print(f\"start index: {loader.start} | end index: {loader.end}\")\n",
    "for X_tr, Y_tr, X_te, Y_te, T_tr, T_te in loader:\n",
    "    # concatenated systems are in X, Y, T\n",
    "    # X is the input data, Y is the output data, T is the \n",
    "    # which are split into train and test data\n",
    "    # if you want to do it by individual systems:\n",
    "    print(X_tr.shape, Y_tr.shape, X_te.shape, Y_te.shape, T_tr.shape, T_te.shape)\n",
    "\n",
    "    for i in range(loader.n_systems):\n",
    "        x_tr, y_tr, x_te, y_te = loader.train_test_split_individual(i)\n",
    "       \n",
    "        break\n",
    "    # updated slicing\n",
    "    print(f\"start index: {loader.start} | end index: {loader.end}\")\n",
    "    break\n",
    "\n",
    "    \n",
    "    "
   ]
  },
  {
   "cell_type": "code",
   "execution_count": null,
   "metadata": {},
   "outputs": [],
   "source": []
  }
 ],
 "metadata": {
  "kernelspec": {
   "display_name": "gp",
   "language": "python",
   "name": "python3"
  },
  "language_info": {
   "codemirror_mode": {
    "name": "ipython",
    "version": 3
   },
   "file_extension": ".py",
   "mimetype": "text/x-python",
   "name": "python",
   "nbconvert_exporter": "python",
   "pygments_lexer": "ipython3",
   "version": "3.11.3"
  },
  "orig_nbformat": 4
 },
 "nbformat": 4,
 "nbformat_minor": 2
}
