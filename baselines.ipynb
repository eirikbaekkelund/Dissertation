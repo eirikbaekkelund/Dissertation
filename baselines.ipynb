{
 "cells": [
  {
   "cell_type": "code",
   "execution_count": 8,
   "metadata": {},
   "outputs": [],
   "source": [
    "from src.data_loader import PVDataLoader, PVDataGenerator\n",
    "from src.data_loader import train_test_split"
   ]
  },
  {
   "cell_type": "code",
   "execution_count": 33,
   "metadata": {},
   "outputs": [],
   "source": [
    "# data parameters\n",
    "DAY_INIT = 0\n",
    "DAY_MIN = 8\n",
    "DAY_MAX = 16\n",
    "N_DAYS = 5\n",
    "N_DAYS_TRAIN = 5\n",
    "MINUTE_INTERVAL = 5\n",
    "DAILY_DATA_POINTS = (DAY_MAX - DAY_MIN) * 60 / MINUTE_INTERVAL\n",
    "N_HOURS_PRED = 2\n",
    "N_SYSTEMS = 1\n",
    "RADIUS = 0.35\n",
    "CIRCLE_COORDS = (55, -1.5)\n",
    "# create a tuple of 4 coordinates that form a polygon in the uk\n",
    "\n",
    "POLY_COORDS = ((50, -6), (50.5, 1.9), (57.6, -5.5), (58, 1.9))"
   ]
  },
  {
   "cell_type": "code",
   "execution_count": 34,
   "metadata": {},
   "outputs": [
    {
     "name": "stdout",
     "output_type": "stream",
     "text": [
      "==> Loading data\n",
      "==> Loaded data in: 0 m : 10 sec\n",
      "\n",
      "==> Loading data\n",
      "==> Loaded data in: 0 m : 0 sec\n",
      "\n"
     ]
    }
   ],
   "source": [
    "loader = PVDataGenerator(n_days=N_DAYS,\n",
    "                    day_init=DAY_INIT,\n",
    "                    n_systems=N_SYSTEMS,\n",
    "                    coords=CIRCLE_COORDS,\n",
    "                    minute_interval=MINUTE_INTERVAL,\n",
    "                    day_min=DAY_MIN,\n",
    "                    day_max=DAY_MAX,\n",
    "                    folder_name='pv_data',\n",
    "                    file_name_pv='pv_data_clean.csv',\n",
    "                    file_name_location='location_data_clean.csv',\n",
    "                    distance_method='circle',\n",
    "                    drop_nan=False)\n",
    "\n",
    "X, y = loader.get_time_series()"
   ]
  },
  {
   "cell_type": "code",
   "execution_count": 35,
   "metadata": {},
   "outputs": [],
   "source": [
    "x_train, y_train, x_test, y_test = train_test_split(X, y, minute_interval=MINUTE_INTERVAL, n_hours=N_HOURS_PRED)"
   ]
  },
  {
   "cell_type": "code",
   "execution_count": 36,
   "metadata": {},
   "outputs": [],
   "source": [
    "from src.baselines import (ExponentialSmoothingModel, \n",
    "                           AutoRegressionModel, \n",
    "                           ARIMAModel, \n",
    "                           SARIMAXModel, \n",
    "                           MarkovAutoregressionModel)"
   ]
  },
  {
   "cell_type": "code",
   "execution_count": 37,
   "metadata": {},
   "outputs": [],
   "source": [
    "y_train, y_test = y_train.numpy(), y_test.numpy()"
   ]
  },
  {
   "cell_type": "code",
   "execution_count": 125,
   "metadata": {},
   "outputs": [],
   "source": [
    "kwargs = {'trend': 'mul', 'seasonal': 'add', 'seasonal_periods': N_DAYS, 'use_boxcox': True}"
   ]
  },
  {
   "cell_type": "code",
   "execution_count": 126,
   "metadata": {},
   "outputs": [],
   "source": [
    "exp_model = ExponentialSmoothingModel(y_train=y_train, y_test=y_test, **kwargs)"
   ]
  },
  {
   "cell_type": "code",
   "execution_count": 130,
   "metadata": {},
   "outputs": [
    {
     "name": "stderr",
     "output_type": "stream",
     "text": [
      "/Users/eirikbaekkelund/opt/anaconda3/envs/gp/lib/python3.11/site-packages/statsmodels/tsa/holtwinters/model.py:915: ConvergenceWarning: Optimization failed to converge. Check mle_retvals.\n",
      "  warnings.warn(\n"
     ]
    }
   ],
   "source": [
    "fit = exp_model.model.fit()\n",
    "simulations = fit.simulate(len(y_test), repetitions=100, error='mul')"
   ]
  },
  {
   "cell_type": "code",
   "execution_count": 131,
   "metadata": {},
   "outputs": [],
   "source": [
    "y_pred = exp_model.model.predict(params=fit.params, start=len(y_train), end=len(y_train) + len(y_test)-1)"
   ]
  }
 ],
 "metadata": {
  "kernelspec": {
   "display_name": "gp",
   "language": "python",
   "name": "python3"
  },
  "language_info": {
   "codemirror_mode": {
    "name": "ipython",
    "version": 3
   },
   "file_extension": ".py",
   "mimetype": "text/x-python",
   "name": "python",
   "nbconvert_exporter": "python",
   "pygments_lexer": "ipython3",
   "version": "3.11.3"
  },
  "orig_nbformat": 4
 },
 "nbformat": 4,
 "nbformat_minor": 2
}
